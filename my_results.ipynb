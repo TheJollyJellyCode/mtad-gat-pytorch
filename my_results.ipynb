{
 "cells": [
  {
   "cell_type": "code",
   "id": "8b5e5863de02f121",
   "metadata": {
    "ExecuteTime": {
     "end_time": "2025-01-09T11:06:48.402177Z",
     "start_time": "2025-01-09T11:06:48.397659Z"
    }
   },
   "source": [
    "from PickleHandler import PickleHandler\n",
    "from my_plotting import ForecastAnalysis\n",
    "import platform\n",
    "import os\n",
    "import pickle"
   ],
   "outputs": [],
   "execution_count": 40
  },
  {
   "metadata": {
    "ExecuteTime": {
     "end_time": "2025-01-09T11:06:50.313242Z",
     "start_time": "2025-01-09T11:06:50.295739Z"
    }
   },
   "cell_type": "code",
   "source": [
    "file_path = \"/plots/l96_e10_bs32/data.csv\"\n",
    "output_dir = \"C:/Users/Vika/Documents/HTWG/Local_Thesis/mtad-gat-pytorch/plots\"\n",
    "pkl_file = \"C:/Users/Vika/Documents/HTWG/Local_Thesis/mtad-gat-pytorch/output/MYDATA/08012025_152453/test_output.pkl\"\n",
    "analyser = ForecastAnalysis(pkl_file, output_dir)\n",
    "analyser.load_pkl()\n",
    "analyser.load_csv(file_path)\n",
    "analyser.save_forecast_true_csv()\n",
    "analyser.save_residuals_csv()\n",
    "\n"
   ],
   "id": "3880aa239737bd92",
   "outputs": [
    {
     "ename": "TypeError",
     "evalue": "ForecastAnalysis.load_pkl() missing 1 required positional argument: 'file_path'",
     "output_type": "error",
     "traceback": [
      "\u001B[1;31m---------------------------------------------------------------------------\u001B[0m",
      "\u001B[1;31mTypeError\u001B[0m                                 Traceback (most recent call last)",
      "Cell \u001B[1;32mIn[41], line 5\u001B[0m\n\u001B[0;32m      3\u001B[0m pkl_file \u001B[38;5;241m=\u001B[39m \u001B[38;5;124m\"\u001B[39m\u001B[38;5;124mC:/Users/Vika/Documents/HTWG/Local_Thesis/mtad-gat-pytorch/output/MYDATA/08012025_152453/test_output.pkl\u001B[39m\u001B[38;5;124m\"\u001B[39m\n\u001B[0;32m      4\u001B[0m analyser \u001B[38;5;241m=\u001B[39m ForecastAnalysis(pkl_file, output_dir)\n\u001B[1;32m----> 5\u001B[0m analyser\u001B[38;5;241m.\u001B[39mload_pkl()\n\u001B[0;32m      6\u001B[0m analyser\u001B[38;5;241m.\u001B[39mload_csv(file_path)\n\u001B[0;32m      7\u001B[0m analyser\u001B[38;5;241m.\u001B[39msave_forecast_true_csv()\n",
      "\u001B[1;31mTypeError\u001B[0m: ForecastAnalysis.load_pkl() missing 1 required positional argument: 'file_path'"
     ]
    }
   ],
   "execution_count": 41
  },
  {
   "metadata": {},
   "cell_type": "code",
   "outputs": [],
   "execution_count": null,
   "source": [
    "analyser.plot_forecast_true()\n",
    "analyser.plot_residuals()"
   ],
   "id": "c4a6eb6731dbc4c4"
  },
  {
   "metadata": {
    "ExecuteTime": {
     "end_time": "2025-01-09T10:02:00.475843Z",
     "start_time": "2025-01-09T10:02:00.465514Z"
    }
   },
   "cell_type": "code",
   "outputs": [
    {
     "name": "stdout",
     "output_type": "stream",
     "text": [
      "C:\\Users\\Vika\\Documents\\HTWG\\Local_Thesis\\mtad-gat-pytorch\n",
      "Pickle-Datei erfolgreich geladen!\n",
      "Datentyp: <class 'pandas.core.frame.DataFrame'>\n",
      "Die Datei enthält ein DataFrame mit 8710 Zeilen und 88 Spalten.\n"
     ]
    }
   ],
   "execution_count": 23,
   "source": [
    "# print(os.getcwd())\n",
    "# file_path = \"C:/Users/Vika/Documents/HTWG/Local_Thesis/mtad-gat-pytorch/output/MYDATA/08012025_152453/test_output.pkl\"\n",
    "# output_dir = \"C:/Users/Vika/Documents/HTWG/Local_Thesis/mtad-gat-pytorch/plots\"\n",
    "# handler = PickleHandler(file_path)\n",
    "# handler.load_pickle()\n",
    "# handler.inspect_data()\n"
   ],
   "id": "82bb21f0733bdba8"
  },
  {
   "metadata": {
    "ExecuteTime": {
     "end_time": "2025-01-09T10:02:18.846896Z",
     "start_time": "2025-01-09T10:02:18.274889Z"
    }
   },
   "cell_type": "code",
   "outputs": [
    {
     "name": "stdout",
     "output_type": "stream",
     "text": [
      "CSV-Datei gespeichert: C:/Users/Vika/Documents/HTWG/Local_Thesis/mtad-gat-pytorch/plots/data.csv\n"
     ]
    }
   ],
   "execution_count": 24,
   "source": "# handler.save_as_csv(output_dir)",
   "id": "a3d2379855952c95"
  },
  {
   "cell_type": "code",
   "id": "initial_id",
   "metadata": {
    "ExecuteTime": {
     "end_time": "2025-01-09T09:47:37.270198Z",
     "start_time": "2025-01-09T09:47:37.236516Z"
    }
   },
   "source": [
    "# base_dir=\"\"\n",
    "# if platform.system() == \"Windows\":\n",
    "#     base_dir = 'C:/Users/Vika/Documents/HTWG/Local_Thesis/mtad-gat-pytorch/'\n",
    "# # Pfade zu den Dateien\n",
    "# test_pkl_path = base_dir+'output/MYDATA/08012025_152453/test.pkl'\n",
    "# output_dir = base_dir+\"plots\"\n",
    "#\n",
    "# # Instanz der Klasse erstellen\n",
    "# analysis = ForecastAnalysis(test_pkl_path, output_dir)\n",
    "# analysis.process()\n"
   ],
   "outputs": [
    {
     "name": "stdout",
     "output_type": "stream",
     "text": [
      "Lade Daten...\n"
     ]
    },
    {
     "ename": "FileNotFoundError",
     "evalue": "[Errno 2] No such file or directory: 'C:/Users/Vika/Documents/HTWG/Local_Thesis/mtad-gat-pytorch/output/MYDATA/08012025_152453/test.pkl'",
     "output_type": "error",
     "traceback": [
      "\u001B[1;31m---------------------------------------------------------------------------\u001B[0m",
      "\u001B[1;31mFileNotFoundError\u001B[0m                         Traceback (most recent call last)",
      "Cell \u001B[1;32mIn[11], line 10\u001B[0m\n\u001B[0;32m      8\u001B[0m \u001B[38;5;66;03m# Instanz der Klasse erstellen\u001B[39;00m\n\u001B[0;32m      9\u001B[0m analysis \u001B[38;5;241m=\u001B[39m ForecastAnalysis(test_pkl_path, output_dir)\n\u001B[1;32m---> 10\u001B[0m analysis\u001B[38;5;241m.\u001B[39mprocess()\n",
      "File \u001B[1;32m~\\Documents\\HTWG\\Local_Thesis\\mtad-gat-pytorch\\my_plotting.py:96\u001B[0m, in \u001B[0;36mForecastAnalysis.process\u001B[1;34m(self)\u001B[0m\n\u001B[0;32m     94\u001B[0m \u001B[38;5;250m\u001B[39m\u001B[38;5;124;03m\"\"\"Hauptmethode: Daten laden, speichern und plotten.\"\"\"\u001B[39;00m\n\u001B[0;32m     95\u001B[0m \u001B[38;5;28mprint\u001B[39m(\u001B[38;5;124m\"\u001B[39m\u001B[38;5;124mLade Daten...\u001B[39m\u001B[38;5;124m\"\u001B[39m)\n\u001B[1;32m---> 96\u001B[0m \u001B[38;5;28mself\u001B[39m\u001B[38;5;241m.\u001B[39mload_data()\n\u001B[0;32m     97\u001B[0m \u001B[38;5;28mprint\u001B[39m(\u001B[38;5;124m\"\u001B[39m\u001B[38;5;124mSpeichere Ergebnisse als CSV...\u001B[39m\u001B[38;5;124m\"\u001B[39m)\n\u001B[0;32m     98\u001B[0m \u001B[38;5;28mself\u001B[39m\u001B[38;5;241m.\u001B[39msave_to_csv()\n",
      "File \u001B[1;32m~\\Documents\\HTWG\\Local_Thesis\\mtad-gat-pytorch\\my_plotting.py:31\u001B[0m, in \u001B[0;36mForecastAnalysis.load_data\u001B[1;34m(self)\u001B[0m\n\u001B[0;32m     29\u001B[0m \u001B[38;5;28;01mdef\u001B[39;00m \u001B[38;5;21mload_data\u001B[39m(\u001B[38;5;28mself\u001B[39m):\n\u001B[0;32m     30\u001B[0m \u001B[38;5;250m    \u001B[39m\u001B[38;5;124;03m\"\"\"Lade Daten aus der test_output.pkl Datei.\"\"\"\u001B[39;00m\n\u001B[1;32m---> 31\u001B[0m     \u001B[38;5;28mself\u001B[39m\u001B[38;5;241m.\u001B[39mtest_output \u001B[38;5;241m=\u001B[39m \u001B[38;5;28mself\u001B[39m\u001B[38;5;241m.\u001B[39mload_pkl(\u001B[38;5;28mself\u001B[39m\u001B[38;5;241m.\u001B[39mtest_pkl_path)\n\u001B[0;32m     33\u001B[0m     \u001B[38;5;66;03m# True, Forecast und Reconstruction Werte\u001B[39;00m\n\u001B[0;32m     34\u001B[0m     \u001B[38;5;28mself\u001B[39m\u001B[38;5;241m.\u001B[39mtrue_values \u001B[38;5;241m=\u001B[39m \u001B[38;5;28mself\u001B[39m\u001B[38;5;241m.\u001B[39mtest_output[\u001B[38;5;124m\"\u001B[39m\u001B[38;5;124mTrue\u001B[39m\u001B[38;5;124m\"\u001B[39m]\n",
      "File \u001B[1;32m~\\Documents\\HTWG\\Local_Thesis\\mtad-gat-pytorch\\my_plotting.py:26\u001B[0m, in \u001B[0;36mForecastAnalysis.load_pkl\u001B[1;34m(file_path)\u001B[0m\n\u001B[0;32m     23\u001B[0m \u001B[38;5;129m@staticmethod\u001B[39m\n\u001B[0;32m     24\u001B[0m \u001B[38;5;28;01mdef\u001B[39;00m \u001B[38;5;21mload_pkl\u001B[39m(file_path):\n\u001B[0;32m     25\u001B[0m \u001B[38;5;250m    \u001B[39m\u001B[38;5;124;03m\"\"\"Lade eine .pkl-Datei.\"\"\"\u001B[39;00m\n\u001B[1;32m---> 26\u001B[0m     \u001B[38;5;28;01mwith\u001B[39;00m \u001B[38;5;28mopen\u001B[39m(file_path, \u001B[38;5;124m\"\u001B[39m\u001B[38;5;124mrb\u001B[39m\u001B[38;5;124m\"\u001B[39m) \u001B[38;5;28;01mas\u001B[39;00m f:\n\u001B[0;32m     27\u001B[0m         \u001B[38;5;28;01mreturn\u001B[39;00m pickle\u001B[38;5;241m.\u001B[39mload(f)\n",
      "\u001B[1;31mFileNotFoundError\u001B[0m: [Errno 2] No such file or directory: 'C:/Users/Vika/Documents/HTWG/Local_Thesis/mtad-gat-pytorch/output/MYDATA/08012025_152453/test.pkl'"
     ]
    }
   ],
   "execution_count": 11
  }
 ],
 "metadata": {
  "kernelspec": {
   "display_name": "Python 3 (ipykernel)",
   "language": "python",
   "name": "python3"
  },
  "language_info": {
   "codemirror_mode": {
    "name": "ipython",
    "version": 3
   },
   "file_extension": ".py",
   "mimetype": "text/x-python",
   "name": "python",
   "nbconvert_exporter": "python",
   "pygments_lexer": "ipython3",
   "version": "3.12.8"
  }
 },
 "nbformat": 4,
 "nbformat_minor": 5
}
